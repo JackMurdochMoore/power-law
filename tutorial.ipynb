{
 "cells": [
  {
   "cell_type": "markdown",
   "metadata": {},
   "source": [
    "# Tutorial: how to generate power-law surrogates\n",
    "\n",
    "\n",
    "This notebook is designed very briefly to illustrate generation of different types of power-law surrogates from synthetic data and an empirical time series."
   ]
  },
  {
   "cell_type": "markdown",
   "metadata": {},
   "source": [
    "## Import source code and basic libraries"
   ]
  },
  {
   "cell_type": "code",
   "execution_count": 80,
   "metadata": {},
   "outputs": [],
   "source": [
    "from constrained_power_law_surrogates import gen_typ_p_l_surrogate, gen_power_law_surr_list, ident_cut_off_const, estim_scale_exp\n",
    "# \n",
    "import numpy as np\n",
    "import sys"
   ]
  },
  {
   "cell_type": "markdown",
   "metadata": {},
   "source": [
    "## Input sequence\n",
    "\n",
    "Store your input sequence into the variable *seq*"
   ]
  },
  {
   "cell_type": "markdown",
   "metadata": {},
   "source": [
    "Read it from data"
   ]
  },
  {
   "cell_type": "code",
   "execution_count": 67,
   "metadata": {},
   "outputs": [],
   "source": [
    "seqtext = open(\"time-series/words.txt\").read().split(\"\\n\")\n",
    "seq = [int(x) for x in seqtext[:10]]"
   ]
  },
  {
   "cell_type": "markdown",
   "metadata": {},
   "source": [
    "Generate from a power-law with chosen exponent and lower cut-off:"
   ]
  },
  {
   "cell_type": "code",
   "execution_count": 68,
   "metadata": {},
   "outputs": [],
   "source": [
    "gamma = 2; x_min = 3; N = 10;\n",
    "seq = gen_typ_p_l_surrogate(gamma, x_min, N)"
   ]
  },
  {
   "cell_type": "markdown",
   "metadata": {},
   "source": [
    "## Constrained methods"
   ]
  },
  {
   "cell_type": "markdown",
   "metadata": {},
   "source": [
    "### This is the list and small description of the methods to generate (surrogate) time series"
   ]
  },
  {
   "cell_type": "code",
   "execution_count": 69,
   "metadata": {},
   "outputs": [],
   "source": [
    "surrogate_methods = ['obse','know','cons','typi','boot','shuf','mark','ordi']\n",
    "method_description={\n",
    "        'obse':'Original observation',\n",
    "    'know':'Power-law surrogate with known scale exponent',\n",
    "    'cons':'Constrained power-law surrogate',\n",
    "    'typi':'Typical power-law surrogate',\n",
    "    'boot':'Bootstrap surrogate',\n",
    "    'shuf':'Shuffle surrogate',\n",
    "    'mark':'Constrained Markov order power-law surrogate',\n",
    "    'ordi':'Constrained ordinal pattern power-law surrogate',\n",
    "    'unknown':'Unknown input surr_method surrogate'\n",
    "}"
   ]
  },
  {
   "cell_type": "markdown",
   "metadata": {},
   "source": [
    "You can choose one of the methods to generate the surrogate of the input sequence *seq* as:"
   ]
  },
  {
   "cell_type": "code",
   "execution_count": 70,
   "metadata": {},
   "outputs": [
    {
     "data": {
      "text/plain": [
       "[[25, 1, 27, 2, 7, 20, 1, 12, 28, 1]]"
      ]
     },
     "execution_count": 70,
     "metadata": {},
     "output_type": "execute_result"
    }
   ],
   "source": [
    "gen_power_law_surr_list(seq,surr_method='cons')"
   ]
  },
  {
   "cell_type": "markdown",
   "metadata": {},
   "source": [
    "Here are surrogates from all the methods:"
   ]
  },
  {
   "cell_type": "code",
   "execution_count": 71,
   "metadata": {},
   "outputs": [
    {
     "name": "stdout",
     "output_type": "stream",
     "text": [
      "Using method: obse  to generate: Original observation\n",
      "[[3, 7, 4, 3, 5, 16, 14, 5, 3, 15], [16, 15, 14, 3, 3, 7, 3, 5, 4, 5]] \n",
      "\n",
      "Using method: know  to generate: Power-law surrogate with known scale exponent\n",
      "[[4, 3, 14, 5, 7, 15, 5, 16, 3, 3], [5, 3, 5, 14, 16, 4, 3, 7, 3, 15]] \n",
      "\n",
      "Using method: cons  to generate: Constrained power-law surrogate\n",
      "[[3, 3, 5, 14, 15, 3, 7, 5, 4, 16], [7, 5, 14, 4, 15, 16, 5, 3, 3, 3]] \n",
      "\n",
      "Using method: typi  to generate: Typical power-law surrogate\n",
      "[[3, 15, 3, 14, 7, 3, 16, 5, 5, 4], [3, 5, 7, 3, 3, 15, 16, 14, 4, 5]] \n",
      "\n",
      "Using method: boot  to generate: Bootstrap surrogate\n",
      "[[3, 3, 5, 3, 7, 16, 15, 14, 5, 4], [15, 16, 5, 3, 4, 5, 14, 3, 3, 7]] \n",
      "\n",
      "Using method: shuf  to generate: Shuffle surrogate\n",
      "[[4, 5, 5, 7, 16, 3, 3, 15, 14, 3], [4, 5, 14, 15, 7, 16, 3, 3, 3, 5]] \n",
      "\n",
      "Using method: mark  to generate: Constrained Markov order power-law surrogate\n",
      "[[16, 14, 5, 5, 4, 3, 7, 3, 15, 3], [4, 3, 15, 7, 16, 5, 14, 3, 3, 5]] \n",
      "\n",
      "Using method: ordi  to generate: Constrained ordinal pattern power-law surrogate\n",
      "[[3, 3, 14, 15, 16, 5, 7, 5, 4, 3], [3, 5, 15, 16, 5, 7, 3, 14, 3, 4]] \n",
      "\n"
     ]
    }
   ],
   "source": [
    "for method in surrogate_methods:\n",
    "    print(\"Using method:\",method,\" to generate:\",method_description[method])\n",
    "    surr_list = gen_power_law_surr_list(seq, surr_method='shuf', x_min=x_min, num_surr=2)\n",
    "    print(surr_list,\"\\n\")\n"
   ]
  },
  {
   "cell_type": "markdown",
   "metadata": {},
   "source": [
    "Here is how you plot the surrogates:"
   ]
  },
  {
   "cell_type": "code",
   "execution_count": null,
   "metadata": {},
   "outputs": [],
   "source": []
  },
  {
   "cell_type": "markdown",
   "metadata": {},
   "source": [
    "## Estimating the cut-offs"
   ]
  },
  {
   "cell_type": "code",
   "execution_count": null,
   "metadata": {},
   "outputs": [],
   "source": []
  },
  {
   "cell_type": "code",
   "execution_count": null,
   "metadata": {},
   "outputs": [],
   "source": []
  },
  {
   "cell_type": "code",
   "execution_count": null,
   "metadata": {},
   "outputs": [],
   "source": []
  },
  {
   "cell_type": "code",
   "execution_count": 82,
   "metadata": {
    "scrolled": false
   },
   "outputs": [
    {
     "ename": "KeyboardInterrupt",
     "evalue": "",
     "output_type": "error",
     "traceback": [
      "\u001b[0;31m---------------------------------------------------------------------------\u001b[0m",
      "\u001b[0;31mKeyboardInterrupt\u001b[0m                         Traceback (most recent call last)",
      "\u001b[0;32m<ipython-input-82-d6ecc2888bff>\u001b[0m in \u001b[0;36m<module>\u001b[0;34m\u001b[0m\n\u001b[1;32m     13\u001b[0m \u001b[0;34m\u001b[0m\u001b[0m\n\u001b[1;32m     14\u001b[0m \u001b[0;31m#Estimate lower cut-off x_min by minimise KS-distance from maximum likelihood power-law\u001b[0m\u001b[0;34m\u001b[0m\u001b[0;34m\u001b[0m\u001b[0m\n\u001b[0;32m---> 15\u001b[0;31m \u001b[0;34m(\u001b[0m\u001b[0mx_min\u001b[0m\u001b[0;34m,\u001b[0m \u001b[0m_\u001b[0m\u001b[0;34m,\u001b[0m \u001b[0m_\u001b[0m\u001b[0;34m,\u001b[0m \u001b[0m_\u001b[0m\u001b[0;34m,\u001b[0m \u001b[0m_\u001b[0m\u001b[0;34m)\u001b[0m \u001b[0;34m=\u001b[0m \u001b[0mident_cut_off_const\u001b[0m\u001b[0;34m(\u001b[0m\u001b[0mdata\u001b[0m\u001b[0;34m)\u001b[0m\u001b[0;34m\u001b[0m\u001b[0;34m\u001b[0m\u001b[0m\n\u001b[0m\u001b[1;32m     16\u001b[0m \u001b[0mseq\u001b[0m \u001b[0;34m=\u001b[0m \u001b[0;34m[\u001b[0m\u001b[0mint\u001b[0m\u001b[0;34m(\u001b[0m\u001b[0mnp\u001b[0m\u001b[0;34m.\u001b[0m\u001b[0mround\u001b[0m\u001b[0;34m(\u001b[0m\u001b[0mval\u001b[0m\u001b[0;34m)\u001b[0m\u001b[0;34m)\u001b[0m \u001b[0;32mfor\u001b[0m \u001b[0mval\u001b[0m \u001b[0;32min\u001b[0m \u001b[0mdata\u001b[0m \u001b[0;32mif\u001b[0m \u001b[0mval\u001b[0m \u001b[0;34m>=\u001b[0m \u001b[0mx_min\u001b[0m\u001b[0;34m]\u001b[0m\u001b[0;34m\u001b[0m\u001b[0;34m\u001b[0m\u001b[0m\n\u001b[1;32m     17\u001b[0m \u001b[0mN0\u001b[0m \u001b[0;34m=\u001b[0m \u001b[0mlen\u001b[0m\u001b[0;34m(\u001b[0m\u001b[0mseq\u001b[0m\u001b[0;34m)\u001b[0m\u001b[0;34m\u001b[0m\u001b[0;34m\u001b[0m\u001b[0m\n",
      "\u001b[0;32m~/git-repos/power-law/constrained_power_law_surrogates.py\u001b[0m in \u001b[0;36mident_cut_off_const\u001b[0;34m(data)\u001b[0m\n\u001b[1;32m    607\u001b[0m     \u001b[0;32mfor\u001b[0m \u001b[0mii_x_min\u001b[0m \u001b[0;32min\u001b[0m \u001b[0mrange\u001b[0m\u001b[0;34m(\u001b[0m\u001b[0mnum_x_min\u001b[0m\u001b[0;34m)\u001b[0m\u001b[0;34m:\u001b[0m\u001b[0;34m\u001b[0m\u001b[0;34m\u001b[0m\u001b[0m\n\u001b[1;32m    608\u001b[0m         \u001b[0mx_min\u001b[0m \u001b[0;34m=\u001b[0m \u001b[0mx_min_list\u001b[0m\u001b[0;34m[\u001b[0m\u001b[0mii_x_min\u001b[0m\u001b[0;34m]\u001b[0m\u001b[0;34m\u001b[0m\u001b[0;34m\u001b[0m\u001b[0m\n\u001b[0;32m--> 609\u001b[0;31m         \u001b[0mval_seq\u001b[0m \u001b[0;34m=\u001b[0m \u001b[0;34m[\u001b[0m\u001b[0mint\u001b[0m\u001b[0;34m(\u001b[0m\u001b[0mval\u001b[0m\u001b[0;34m)\u001b[0m \u001b[0;32mfor\u001b[0m \u001b[0mval\u001b[0m \u001b[0;32min\u001b[0m \u001b[0mdata\u001b[0m \u001b[0;32mif\u001b[0m \u001b[0mval\u001b[0m \u001b[0;34m>=\u001b[0m \u001b[0mx_min\u001b[0m\u001b[0;34m]\u001b[0m\u001b[0;34m\u001b[0m\u001b[0;34m\u001b[0m\u001b[0m\n\u001b[0m\u001b[1;32m    610\u001b[0m         \u001b[0mN\u001b[0m \u001b[0;34m=\u001b[0m \u001b[0mlen\u001b[0m\u001b[0;34m(\u001b[0m\u001b[0mval_seq\u001b[0m\u001b[0;34m)\u001b[0m\u001b[0;34m\u001b[0m\u001b[0;34m\u001b[0m\u001b[0m\n\u001b[1;32m    611\u001b[0m         \u001b[0mN_list\u001b[0m\u001b[0;34m[\u001b[0m\u001b[0mii_x_min\u001b[0m\u001b[0;34m]\u001b[0m \u001b[0;34m=\u001b[0m \u001b[0mN\u001b[0m\u001b[0;34m\u001b[0m\u001b[0;34m\u001b[0m\u001b[0m\n",
      "\u001b[0;32m~/git-repos/power-law/constrained_power_law_surrogates.py\u001b[0m in \u001b[0;36m<listcomp>\u001b[0;34m(.0)\u001b[0m\n\u001b[1;32m    607\u001b[0m     \u001b[0;32mfor\u001b[0m \u001b[0mii_x_min\u001b[0m \u001b[0;32min\u001b[0m \u001b[0mrange\u001b[0m\u001b[0;34m(\u001b[0m\u001b[0mnum_x_min\u001b[0m\u001b[0;34m)\u001b[0m\u001b[0;34m:\u001b[0m\u001b[0;34m\u001b[0m\u001b[0;34m\u001b[0m\u001b[0m\n\u001b[1;32m    608\u001b[0m         \u001b[0mx_min\u001b[0m \u001b[0;34m=\u001b[0m \u001b[0mx_min_list\u001b[0m\u001b[0;34m[\u001b[0m\u001b[0mii_x_min\u001b[0m\u001b[0;34m]\u001b[0m\u001b[0;34m\u001b[0m\u001b[0;34m\u001b[0m\u001b[0m\n\u001b[0;32m--> 609\u001b[0;31m         \u001b[0mval_seq\u001b[0m \u001b[0;34m=\u001b[0m \u001b[0;34m[\u001b[0m\u001b[0mint\u001b[0m\u001b[0;34m(\u001b[0m\u001b[0mval\u001b[0m\u001b[0;34m)\u001b[0m \u001b[0;32mfor\u001b[0m \u001b[0mval\u001b[0m \u001b[0;32min\u001b[0m \u001b[0mdata\u001b[0m \u001b[0;32mif\u001b[0m \u001b[0mval\u001b[0m \u001b[0;34m>=\u001b[0m \u001b[0mx_min\u001b[0m\u001b[0;34m]\u001b[0m\u001b[0;34m\u001b[0m\u001b[0;34m\u001b[0m\u001b[0m\n\u001b[0m\u001b[1;32m    610\u001b[0m         \u001b[0mN\u001b[0m \u001b[0;34m=\u001b[0m \u001b[0mlen\u001b[0m\u001b[0;34m(\u001b[0m\u001b[0mval_seq\u001b[0m\u001b[0;34m)\u001b[0m\u001b[0;34m\u001b[0m\u001b[0;34m\u001b[0m\u001b[0m\n\u001b[1;32m    611\u001b[0m         \u001b[0mN_list\u001b[0m\u001b[0;34m[\u001b[0m\u001b[0mii_x_min\u001b[0m\u001b[0;34m]\u001b[0m \u001b[0;34m=\u001b[0m \u001b[0mN\u001b[0m\u001b[0;34m\u001b[0m\u001b[0;34m\u001b[0m\u001b[0m\n",
      "\u001b[0;31mKeyboardInterrupt\u001b[0m: "
     ]
    }
   ],
   "source": [
    "# Load empirical data from text file\n",
    "# Generate surrogates from this empirical data using different methods\n",
    "# Juxtapose each surrogate with original observation.\n",
    "# \n",
    "\n",
    "NMax = 1024# Maximum length of time series\n",
    "\n",
    "# Load observation from text file\n",
    "# file_name_str = 'normed-flares.txt'; dist_str = 'flares'; #x_min = 1;, N = 1,711, NG = 1,711\n",
    "file_name_str = 'time-series/energy.txt'; dist_str = 'time-series/earthquakes'; #x_min = 1;, N = 59,555, NG = 59,555\n",
    "\n",
    "data = np.loadtxt(file_name_str)\n",
    "\n",
    "#Estimate lower cut-off x_min by minimise KS-distance from maximum likelihood power-law\n",
    "(x_min, _, _, _, _) = ident_cut_off_const(data)\n",
    "seq = [int(np.round(val)) for val in data if val >= x_min]\n",
    "N0 = len(seq)\n",
    "\n",
    "N0 = len(data)\n",
    "if (N0 > NMax):\n",
    "    N = NMax\n",
    "    start_point = np.random.randint(0, N0 - N)\n",
    "    seq = seq[start_point:(start_point + N)]\n",
    "else:\n",
    "    N = N0\n",
    "    \n",
    "print(str(N0) + ' observations above estimated lower cut-off x_min = ' + str(x_min) + ', of which we will consider ' + str(N) + ' consecutive values starting from a randomly chosen point.');\n",
    "\n",
    "#The list of surrogates to be considered, and their names\n",
    "surr_method_list = ['obse', 'know', 'typi', 'cons', 'boot', 'shuf', 'mark', 'ordi']\n",
    "surr_method_name_list = ['Observed', 'Known exponent', 'Typical', 'Constrained', 'Bootstrapped', 'Shuffled', 'Markov', 'Ordinal pattern']\n",
    "\n",
    "scale_exp = 2#Known scale exponent (Known scale exponent \"know\" surrogates only)\n",
    "o = 1#Markov order (Markov order surrogates \"mark\" only)\n",
    "b = 3#Use bins of logarithmic width log(b) (Markov order surrogates \"mark\" only)\n",
    "L = 16#Length of ordinal patterns (ordinal pattern surrogates \"ordi\" only)\n",
    "num_trans = 10**5#Number of transitions (Markov order \"mark\" and ordinal pattern surrogates \"ordi\" only)\n",
    "\n",
    "#Generate and plot realisation of each type of surrogate\n",
    "num_surr_types = len(surr_method_list)\n",
    "import matplotlib.pyplot as plt\n",
    "fig, ax = plt.subplots(num_surr_types, 2, sharex='col', sharey='none', figsize=(2*6, 6*num_surr_types))\n",
    "for i in range(num_surr_types):\n",
    "    surr_method = surr_method_list[i]\n",
    "    surr_method_name = surr_method_name_list[i]\n",
    "    surr_val_seq_list = gen_power_law_surr_list(seq, surr_method=surr_method, x_min=x_min, num_surr=1, scale_exp=scale_exp, o=o, b=b, L=L, num_trans=num_trans)\n",
    "    surr_val_seq = surr_val_seq_list[0]\n",
    "    scale_exp_m_l = estim_scale_exp(surr_val_seq, x_min)#Find maximum likelihood scale exponent of surrogate realisation\n",
    "    match_seq = [seq[ii] if surr_val_seq[ii] == seq[ii] else np.nan for ii in range(N)]\n",
    "    ax_subplot = ax[i][0]\n",
    "    ax_subplot.scatter(list(range(N)), seq)\n",
    "    ax_subplot.scatter(list(range(N)), surr_val_seq)\n",
    "    ax_subplot.scatter(list(range(N)), match_seq)\n",
    "    ax_subplot.set_yscale('log')\n",
    "    ax_subplot.legend(labels=['Observed', surr_method_name, 'Equal'])\n",
    "    ax_subplot.set_ylabel('Value')\n",
    "    ax_subplot = ax[i][1]\n",
    "    ax_subplot.axis('off')\n",
    "ax[-1][0].set_xlabel('Time')\n",
    "plt.show()"
   ]
  },
  {
   "cell_type": "code",
   "execution_count": null,
   "metadata": {},
   "outputs": [],
   "source": []
  },
  {
   "cell_type": "code",
   "execution_count": null,
   "metadata": {},
   "outputs": [],
   "source": []
  }
 ],
 "metadata": {
  "kernelspec": {
   "display_name": "Python 3",
   "language": "python",
   "name": "python3"
  },
  "language_info": {
   "codemirror_mode": {
    "name": "ipython",
    "version": 3
   },
   "file_extension": ".py",
   "mimetype": "text/x-python",
   "name": "python",
   "nbconvert_exporter": "python",
   "pygments_lexer": "ipython3",
   "version": "3.9.7"
  }
 },
 "nbformat": 4,
 "nbformat_minor": 2
}
